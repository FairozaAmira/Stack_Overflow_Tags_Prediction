{
  "nbformat": 4,
  "nbformat_minor": 0,
  "metadata": {
    "colab": {
      "name": "StackOverFlow_RNN.ipynb",
      "provenance": [],
      "collapsed_sections": []
    },
    "kernelspec": {
      "name": "python3",
      "display_name": "Python 3"
    },
    "accelerator": "GPU"
  },
  "cells": [
    {
      "cell_type": "markdown",
      "metadata": {
        "id": "E4KIz_4aUMWZ",
        "colab_type": "text"
      },
      "source": [
        "# Stack Overflow Tags Prediction with Recurrent Neural Networks\n",
        "\n",
        "These codes were referrd from [this GitHub repository](https://github.com/theRajeshReddy/StackOverFlow-Classification).\n",
        "\n",
        "This taks to predict tags for a StackOverflow dataset.\n",
        "Given Questions and Body, we need to predict the tags for each Questions presented.\n",
        "\n",
        "This notebook is run on Google Colaboratory.\n"
      ]
    },
    {
      "cell_type": "markdown",
      "metadata": {
        "id": "sqzq8cJZVvv_",
        "colab_type": "text"
      },
      "source": [
        "### Import the necessary libraries"
      ]
    },
    {
      "cell_type": "code",
      "metadata": {
        "id": "PNgoSgcr15z1",
        "colab_type": "code",
        "colab": {}
      },
      "source": [
        "import numpy as np\n",
        "import pandas as pd\n",
        "import matplotlib.pyplot as plt\n",
        "import matplotlib.cm as cm\n",
        "%matplotlib inline\n",
        "\n",
        "import collections"
      ],
      "execution_count": 0,
      "outputs": []
    },
    {
      "cell_type": "markdown",
      "metadata": {
        "id": "3y9tde8-Vzp5",
        "colab_type": "text"
      },
      "source": [
        "### Get the data"
      ]
    },
    {
      "cell_type": "code",
      "metadata": {
        "id": "yR6jH5Ds2I2Y",
        "colab_type": "code",
        "outputId": "34207619-6582-48ba-ce78-64d14ff9537c",
        "colab": {
          "base_uri": "https://localhost:8080/",
          "height": 122
        }
      },
      "source": [
        "#mount google drive\n",
        "from google.colab import drive\n",
        "drive.mount('/content/drive')"
      ],
      "execution_count": 2,
      "outputs": [
        {
          "output_type": "stream",
          "text": [
            "Go to this URL in a browser: https://accounts.google.com/o/oauth2/auth?client_id=947318989803-6bn6qk8qdgf4n4g3pfee6491hc0brc4i.apps.googleusercontent.com&redirect_uri=urn%3Aietf%3Awg%3Aoauth%3A2.0%3Aoob&scope=email%20https%3A%2F%2Fwww.googleapis.com%2Fauth%2Fdocs.test%20https%3A%2F%2Fwww.googleapis.com%2Fauth%2Fdrive%20https%3A%2F%2Fwww.googleapis.com%2Fauth%2Fdrive.photos.readonly%20https%3A%2F%2Fwww.googleapis.com%2Fauth%2Fpeopleapi.readonly&response_type=code\n",
            "\n",
            "Enter your authorization code:\n",
            "··········\n",
            "Mounted at /content/drive\n"
          ],
          "name": "stdout"
        }
      ]
    },
    {
      "cell_type": "code",
      "metadata": {
        "id": "pwOV4diL2TJv",
        "colab_type": "code",
        "outputId": "187c2e00-bea3-40f6-c116-fc7682d92081",
        "colab": {
          "base_uri": "https://localhost:8080/",
          "height": 51
        }
      },
      "source": [
        "!unzip \"../content/drive/My Drive/Colab Notebooks/StackOverflow/new_train_2.zip\" -d train"
      ],
      "execution_count": 5,
      "outputs": [
        {
          "output_type": "stream",
          "text": [
            "Archive:  ../content/drive/My Drive/Colab Notebooks/StackOverflow/new_train_2.zip\n",
            "  inflating: train/new_train_2.csv   \n"
          ],
          "name": "stdout"
        }
      ]
    },
    {
      "cell_type": "code",
      "metadata": {
        "id": "qlXwZZFb2XB1",
        "colab_type": "code",
        "colab": {}
      },
      "source": [
        "#read the data\n",
        "df_tags = pd.read_csv(\"../content/train/new_train_2.csv\")"
      ],
      "execution_count": 0,
      "outputs": []
    },
    {
      "cell_type": "markdown",
      "metadata": {
        "id": "UzULQbGOV57h",
        "colab_type": "text"
      },
      "source": [
        "## Plot the Top 20 tags \n",
        "\n",
        "Identify the tags by count"
      ]
    },
    {
      "cell_type": "code",
      "metadata": {
        "id": "5K_IrwEm2kYc",
        "colab_type": "code",
        "colab": {}
      },
      "source": [
        "def plot_tags(tagCount):\n",
        "    \n",
        "    x,y = zip(*tagCount)\n",
        "\n",
        "    colormap = plt.cm.gist_ncar #nipy_spectral, Set1,Paired  \n",
        "    colors = [colormap(i) for i in np.linspace(0, 1,50)]   \n",
        "\n",
        "    area = [i/4000 for i in list(y)]   # 0 to 15 point radiuses\n",
        "    plt.figure(figsize=(9,8))\n",
        "    plt.ylabel(\"Number of question associations\")\n",
        "    for i in range(len(y)):\n",
        "        plt.plot(i,y[i], marker='o', linestyle='',ms=area[i],label=x[i])\n",
        "\n",
        "    plt.legend(numpoints=1)\n",
        "    plt.show()"
      ],
      "execution_count": 0,
      "outputs": []
    },
    {
      "cell_type": "code",
      "metadata": {
        "id": "ErRhK0QL2nWB",
        "colab_type": "code",
        "outputId": "a1c6645c-1549-4c6c-ca50-02d248860efb",
        "colab": {
          "base_uri": "https://localhost:8080/",
          "height": 523
        }
      },
      "source": [
        "tagCount =  collections.Counter(list(df_tags['Tags'])).most_common(20)\n",
        "print(tagCount)\n",
        "plot_tags(tagCount)"
      ],
      "execution_count": 63,
      "outputs": [
        {
          "output_type": "stream",
          "text": [
            "[('android', 10036), ('php', 6171), ('jquery', 5574), ('javascript jquery', 4936), ('javascript', 4908), ('java', 4782), ('c#', 4602), ('python', 3286), ('c++', 3204), ('php mysql', 3117), ('mysql', 3100), ('html css', 2662), ('iphone', 2471), ('asp.net', 2376), ('c# asp.net', 2055), ('ruby-on-rails', 1956), ('java android', 1734), ('css', 1697), ('c', 1659), ('iphone objective-c', 1200)]\n"
          ],
          "name": "stdout"
        },
        {
          "output_type": "display_data",
          "data": {
            "image/png": "[encoded data removed]",
            "text/plain": [
              "<Figure size 648x576 with 1 Axes>"
            ]
          },
          "metadata": {
            "tags": []
          }
        }
      ]
    },
    {
      "cell_type": "code",
      "metadata": {
        "id": "fXuMV35j2z84",
        "colab_type": "code",
        "colab": {}
      },
      "source": [
        "top20=['android', 'php', 'jquery', 'javascript jquery', 'javascript',\n",
        "       'java', 'c#', 'python','c++', 'php mysql', \n",
        "       'mysql', 'html css', 'iphone', 'asp.net', 'c# asp.net', \n",
        "       'ruby-on-rails','java android','css', 'c', 'iphone objective-c']"
      ],
      "execution_count": 0,
      "outputs": []
    },
    {
      "cell_type": "code",
      "metadata": {
        "id": "AO58qIEb3GUT",
        "colab_type": "code",
        "outputId": "718e6e91-a531-4cff-f229-a97287b6bbee",
        "colab": {
          "base_uri": "https://localhost:8080/",
          "height": 323
        }
      },
      "source": [
        "tag_top20= df_tags[df_tags.Tags.isin(top20)]\n",
        "print (tag_top20.shape)\n",
        "tag_top20.head()"
      ],
      "execution_count": 10,
      "outputs": [
        {
          "output_type": "stream",
          "text": [
            "(71526, 5)\n"
          ],
          "name": "stdout"
        },
        {
          "output_type": "execute_result",
          "data": {
            "text/html": [
              "<div>\n",
              "<style scoped>\n",
              "    .dataframe tbody tr th:only-of-type {\n",
              "        vertical-align: middle;\n",
              "    }\n",
              "\n",
              "    .dataframe tbody tr th {\n",
              "        vertical-align: top;\n",
              "    }\n",
              "\n",
              "    .dataframe thead th {\n",
              "        text-align: right;\n",
              "    }\n",
              "</style>\n",
              "<table border=\"1\" class=\"dataframe\">\n",
              "  <thead>\n",
              "    <tr style=\"text-align: right;\">\n",
              "      <th></th>\n",
              "      <th>Unnamed: 0</th>\n",
              "      <th>Id</th>\n",
              "      <th>Title</th>\n",
              "      <th>Body</th>\n",
              "      <th>Tags</th>\n",
              "    </tr>\n",
              "  </thead>\n",
              "  <tbody>\n",
              "    <tr>\n",
              "      <th>16</th>\n",
              "      <td>1774935</td>\n",
              "      <td>1774936</td>\n",
              "      <td>C++. Could anyone help me find error in my cod...</td>\n",
              "      <td>&lt;p&gt;&lt;br /&gt;\\nI am trying to solve the next equat...</td>\n",
              "      <td>c++</td>\n",
              "    </tr>\n",
              "    <tr>\n",
              "      <th>41</th>\n",
              "      <td>1590888</td>\n",
              "      <td>1590889</td>\n",
              "      <td>Use LIKE and NOT LIKE more efficeinty when tes...</td>\n",
              "      <td>&lt;p&gt;I have the following query:&lt;/p&gt;\\n\\n&lt;pre&gt;&lt;co...</td>\n",
              "      <td>mysql</td>\n",
              "    </tr>\n",
              "    <tr>\n",
              "      <th>48</th>\n",
              "      <td>717332</td>\n",
              "      <td>717333</td>\n",
              "      <td>network programming in python</td>\n",
              "      <td>&lt;p&gt;how do i run a python program that is recei...</td>\n",
              "      <td>python</td>\n",
              "    </tr>\n",
              "    <tr>\n",
              "      <th>60</th>\n",
              "      <td>2056847</td>\n",
              "      <td>2056848</td>\n",
              "      <td>Error Sending Dynamic values to the mysql data...</td>\n",
              "      <td>&lt;p&gt;I am trying to make a attendence form but t...</td>\n",
              "      <td>mysql</td>\n",
              "    </tr>\n",
              "    <tr>\n",
              "      <th>63</th>\n",
              "      <td>3987407</td>\n",
              "      <td>3987408</td>\n",
              "      <td>jQuery: something is wrong with how this loop ...</td>\n",
              "      <td>&lt;pre&gt;&lt;code&gt;function appendRefToLinks(ref){\\n  ...</td>\n",
              "      <td>jquery</td>\n",
              "    </tr>\n",
              "  </tbody>\n",
              "</table>\n",
              "</div>"
            ],
            "text/plain": [
              "    Unnamed: 0  ...    Tags\n",
              "16     1774935  ...     c++\n",
              "41     1590888  ...   mysql\n",
              "48      717332  ...  python\n",
              "60     2056847  ...   mysql\n",
              "63     3987407  ...  jquery\n",
              "\n",
              "[5 rows x 5 columns]"
            ]
          },
          "metadata": {
            "tags": []
          },
          "execution_count": 10
        }
      ]
    },
    {
      "cell_type": "code",
      "metadata": {
        "id": "a7vFuu063L8r",
        "colab_type": "code",
        "colab": {}
      },
      "source": [
        "tag_top20 = tag_top20.drop(columns=['Unnamed: 0'])"
      ],
      "execution_count": 0,
      "outputs": []
    },
    {
      "cell_type": "code",
      "metadata": {
        "id": "V92RfYoQ3kLB",
        "colab_type": "code",
        "colab": {}
      },
      "source": [
        "def add_tags(question_id):\n",
        "    return tag_top20[tag_top20['Id'] == question_id['Id']].Tags.values\n",
        "\n",
        "top20 = tag_top20.apply(add_tags, axis=1)"
      ],
      "execution_count": 0,
      "outputs": []
    },
    {
      "cell_type": "code",
      "metadata": {
        "id": "rPP6ivzk3pfu",
        "colab_type": "code",
        "outputId": "a71b68b1-344c-4620-e7e0-517bdf317bdf",
        "colab": {
          "base_uri": "https://localhost:8080/",
          "height": 34
        }
      },
      "source": [
        "len(top20),tag_top20.shape"
      ],
      "execution_count": 13,
      "outputs": [
        {
          "output_type": "execute_result",
          "data": {
            "text/plain": [
              "(20, (71526, 4))"
            ]
          },
          "metadata": {
            "tags": []
          },
          "execution_count": 13
        }
      ]
    },
    {
      "cell_type": "code",
      "metadata": {
        "id": "v91m4nFT4BrP",
        "colab_type": "code",
        "colab": {}
      },
      "source": [
        "top20_tags=tag_top20.loc[tag_top20.astype(str).drop_duplicates().index]"
      ],
      "execution_count": 0,
      "outputs": []
    },
    {
      "cell_type": "markdown",
      "metadata": {
        "id": "cEwF_G6HW0Co",
        "colab_type": "text"
      },
      "source": [
        "## Model training using LSTM and GRU\n",
        "\n",
        "**Recurrent Neural Networks (RNN)** take their input not just the current input example as they see, but also what they have perceived previously in time. All the inputs are related to each other. \n",
        "\n",
        "![RNN](https://miro.medium.com/max/627/1*go8PHsPNbbV6qRiwpUQ5BQ.png)\n",
        "\n",
        "First, it takes the X(0) from the sequence of input and then it outputs h(0) which together with X(1) is the input for the next step. So, the h(0) and X(1) is the input for the next step. Similarly, h(1) from the next is the input with X(2) for the next step and so on. This way, it keeps remembering the context while training.\n",
        "\n",
        "RNN has advantages that they can model sequence of data so that each sample can be assumed to be dependednt on previous one, but they have several disadavantages in vanishing gradient, and cannot process very long sequences if using `tanh` or `relu` as activation function.\n",
        "\n",
        "**Gated Recurrent Unit (GRU)** aims to solve the vanishing gradient problem which comes with a standard recurrent neural netwrork. To solve the vanishing gradient problem of a standard RNN, GRU uses, so called, update gate and reset gate. The update gate helps the model to determine how much of the past information (from previous time steps) needs to be passed along to the future. Reset gate is used from the model to decide how much of the past information to forget.\n",
        "\n",
        "**Long Short Term Memory (LSTM)** network comprises of different memory blocks called cells. There are two states that are being transferred to the next cell; the cell state and the hidden state. The memory blocks are responsible for remembering things and manipulations to this memory is done through three major mechanisms, called gates. LSTM is well-suited to classify, process and predict time series given time lags of unknown duration. It trains the model by using back-propagation.\n",
        "\n",
        "![LSTM and GRU](https://miro.medium.com/max/1516/1*yBXV9o5q7L_CvY7quJt3WQ.png)\n",
        "\n",
        "\n",
        "References:\n",
        "\n",
        "1. [Understanding RNN and LSTM](https://towardsdatascience.com/understanding-rnn-and-lstm-f7cdf6dfc14e)\n",
        "\n",
        "2. [Illustrated Guide to LSTMs and GRUs](https://towardsdatascience.com/illustrated-guide-to-lstms-and-gru-s-a-step-by-step-explanation-44e9eb85bf21)\n",
        "\n",
        "3. [Introduction to LSTM](https://www.analyticsvidhya.com/blog/2017/12/fundamentals-of-deep-learning-introduction-to-lstm/)"
      ]
    },
    {
      "cell_type": "code",
      "metadata": {
        "id": "eB2QOmvc4lUh",
        "colab_type": "code",
        "outputId": "2d510617-6813-45dc-8e43-bd147f99e5f2",
        "colab": {
          "base_uri": "https://localhost:8080/",
          "height": 34
        }
      },
      "source": [
        "from sklearn.model_selection import train_test_split\n",
        "from sklearn.preprocessing import MultiLabelBinarizer\n",
        "from nltk import word_tokenize\n",
        "from keras.preprocessing.text import Tokenizer\n",
        "from keras.preprocessing import sequence\n",
        "from keras.layers import LSTM, Activation, Dense, Dropout, Input, Embedding, BatchNormalization, GRU ,concatenate\n",
        "from keras.models import Model, Sequential"
      ],
      "execution_count": 15,
      "outputs": [
        {
          "output_type": "stream",
          "text": [
            "Using TensorFlow backend.\n"
          ],
          "name": "stderr"
        }
      ]
    },
    {
      "cell_type": "markdown",
      "metadata": {
        "id": "5Fo8aUyfdMHO",
        "colab_type": "text"
      },
      "source": [
        "**Labelling the data**"
      ]
    },
    {
      "cell_type": "code",
      "metadata": {
        "id": "fkipuwaG4nIq",
        "colab_type": "code",
        "outputId": "627af650-4bc4-44e0-ecc2-90972f4592ae",
        "colab": {
          "base_uri": "https://localhost:8080/",
          "height": 68
        }
      },
      "source": [
        "multilabel_binarizer = MultiLabelBinarizer()\n",
        "multilabel_binarizer.fit(top20_tags.Tags)\n",
        "labels = multilabel_binarizer.classes_\n",
        "labels"
      ],
      "execution_count": 16,
      "outputs": [
        {
          "output_type": "execute_result",
          "data": {
            "text/plain": [
              "array([' ', '#', '+', '-', '.', 'a', 'b', 'c', 'd', 'e', 'h', 'i', 'j',\n",
              "       'l', 'm', 'n', 'o', 'p', 'q', 'r', 's', 't', 'u', 'v', 'y'],\n",
              "      dtype=object)"
            ]
          },
          "metadata": {
            "tags": []
          },
          "execution_count": 16
        }
      ]
    },
    {
      "cell_type": "markdown",
      "metadata": {
        "id": "hTcUhq9XdPtF",
        "colab_type": "text"
      },
      "source": [
        "**Split the data into train and test set**"
      ]
    },
    {
      "cell_type": "code",
      "metadata": {
        "id": "SuesG41y4vtT",
        "colab_type": "code",
        "colab": {}
      },
      "source": [
        "train,test=train_test_split(top20_tags,test_size=0.2,random_state=24)"
      ],
      "execution_count": 0,
      "outputs": []
    },
    {
      "cell_type": "code",
      "metadata": {
        "id": "-U04SkgS46D1",
        "colab_type": "code",
        "outputId": "a8bf3f55-d476-409d-8085-9231b2964f31",
        "colab": {
          "base_uri": "https://localhost:8080/",
          "height": 34
        }
      },
      "source": [
        "train.shape,test.shape"
      ],
      "execution_count": 18,
      "outputs": [
        {
          "output_type": "execute_result",
          "data": {
            "text/plain": [
              "((57220, 4), (14306, 4))"
            ]
          },
          "metadata": {
            "tags": []
          },
          "execution_count": 18
        }
      ]
    },
    {
      "cell_type": "code",
      "metadata": {
        "id": "kYqR-L4N489s",
        "colab_type": "code",
        "colab": {}
      },
      "source": [
        "X_train_t=train['Title']\n",
        "X_train_b=train['Body']\n",
        "y_train=multilabel_binarizer.transform(train['Tags'])\n",
        "X_test_t=test['Title']\n",
        "X_test_b=test['Body']\n",
        "y_test=multilabel_binarizer.transform(test['Tags'])"
      ],
      "execution_count": 0,
      "outputs": []
    },
    {
      "cell_type": "code",
      "metadata": {
        "id": "xQloAoDO5A6W",
        "colab_type": "code",
        "outputId": "b1c9b712-33d0-443a-e47c-e8490e352b43",
        "colab": {
          "base_uri": "https://localhost:8080/",
          "height": 68
        }
      },
      "source": [
        "import nltk\n",
        "nltk.download('punkt')\n",
        "\n",
        "sent_lens_t=[]\n",
        "for sent in train['Title']:\n",
        "    sent_lens_t.append(len(word_tokenize(sent)))\n",
        "max(sent_lens_t)"
      ],
      "execution_count": 20,
      "outputs": [
        {
          "output_type": "stream",
          "text": [
            "[nltk_data] Downloading package punkt to /root/nltk_data...\n",
            "[nltk_data]   Unzipping tokenizers/punkt.zip.\n"
          ],
          "name": "stdout"
        },
        {
          "output_type": "execute_result",
          "data": {
            "text/plain": [
              "43"
            ]
          },
          "metadata": {
            "tags": []
          },
          "execution_count": 20
        }
      ]
    },
    {
      "cell_type": "code",
      "metadata": {
        "id": "GC1S9P0i5J0h",
        "colab_type": "code",
        "outputId": "8636f389-a9eb-4f47-a7e8-6bd91445067a",
        "colab": {
          "base_uri": "https://localhost:8080/",
          "height": 34
        }
      },
      "source": [
        "np.quantile(sent_lens_t,0.97)"
      ],
      "execution_count": 21,
      "outputs": [
        {
          "output_type": "execute_result",
          "data": {
            "text/plain": [
              "18.0"
            ]
          },
          "metadata": {
            "tags": []
          },
          "execution_count": 21
        }
      ]
    },
    {
      "cell_type": "code",
      "metadata": {
        "id": "nZx_6RUc5MkT",
        "colab_type": "code",
        "colab": {}
      },
      "source": [
        "max_len_t = 18\n",
        "tok = Tokenizer(char_level=False,split=' ')\n",
        "tok.fit_on_texts(X_train_t)\n",
        "sequences_train_t = tok.texts_to_sequences(X_train_t)"
      ],
      "execution_count": 0,
      "outputs": []
    },
    {
      "cell_type": "code",
      "metadata": {
        "id": "atayV19O5Oq2",
        "colab_type": "code",
        "outputId": "13e8b5a5-618c-4785-f010-065c327a31b1",
        "colab": {
          "base_uri": "https://localhost:8080/",
          "height": 34
        }
      },
      "source": [
        "vocab_len_t=len(tok.index_word.keys())\n",
        "vocab_len_t"
      ],
      "execution_count": 23,
      "outputs": [
        {
          "output_type": "execute_result",
          "data": {
            "text/plain": [
              "16622"
            ]
          },
          "metadata": {
            "tags": []
          },
          "execution_count": 23
        }
      ]
    },
    {
      "cell_type": "code",
      "metadata": {
        "id": "tglbbZjr5Rfj",
        "colab_type": "code",
        "outputId": "75fdc213-9073-416f-d67a-8ee686448730",
        "colab": {
          "base_uri": "https://localhost:8080/",
          "height": 136
        }
      },
      "source": [
        "sequences_matrix_train_t = sequence.pad_sequences(sequences_train_t,maxlen=max_len_t)\n",
        "sequences_matrix_train_t"
      ],
      "execution_count": 24,
      "outputs": [
        {
          "output_type": "execute_result",
          "data": {
            "text/plain": [
              "array([[   0,    0,    0, ...,    5,   35,  125],\n",
              "       [   0,    0,    0, ...,   35,   44, 2929],\n",
              "       [   0,    0,    0, ...,   47,  336, 4412],\n",
              "       ...,\n",
              "       [   0,    0,    0, ...,   17,   42,  211],\n",
              "       [   0,    0,    0, ...,    7, 1479, 1890],\n",
              "       [   0,    0,    0, ...,  572,    8,   19]], dtype=int32)"
            ]
          },
          "metadata": {
            "tags": []
          },
          "execution_count": 24
        }
      ]
    },
    {
      "cell_type": "code",
      "metadata": {
        "id": "f1PU61ba5UPY",
        "colab_type": "code",
        "colab": {}
      },
      "source": [
        "sequences_test_t = tok.texts_to_sequences(X_test_t)\n",
        "sequences_matrix_test_t = sequence.pad_sequences(sequences_test_t,maxlen=max_len_t)"
      ],
      "execution_count": 0,
      "outputs": []
    },
    {
      "cell_type": "code",
      "metadata": {
        "id": "KEgaYXNr5W0R",
        "colab_type": "code",
        "outputId": "84e835a8-da1f-4bfd-dd76-c75bbc94cee6",
        "colab": {
          "base_uri": "https://localhost:8080/",
          "height": 34
        }
      },
      "source": [
        "sequences_matrix_train_t.shape,sequences_matrix_test_t.shape,y_train.shape,y_test.shape"
      ],
      "execution_count": 26,
      "outputs": [
        {
          "output_type": "execute_result",
          "data": {
            "text/plain": [
              "((57220, 18), (14306, 18), (57220, 25), (14306, 25))"
            ]
          },
          "metadata": {
            "tags": []
          },
          "execution_count": 26
        }
      ]
    },
    {
      "cell_type": "code",
      "metadata": {
        "id": "ksgLl0QB5aXm",
        "colab_type": "code",
        "outputId": "980eb28a-9d71-4da7-bf8c-26f63f4d9b64",
        "colab": {
          "base_uri": "https://localhost:8080/",
          "height": 34
        }
      },
      "source": [
        "sent_lens_b=[]\n",
        "for sent in train['Body']:\n",
        "    sent_lens_b.append(len(word_tokenize(sent)))\n",
        "max(sent_lens_b)"
      ],
      "execution_count": 27,
      "outputs": [
        {
          "output_type": "execute_result",
          "data": {
            "text/plain": [
              "10962"
            ]
          },
          "metadata": {
            "tags": []
          },
          "execution_count": 27
        }
      ]
    },
    {
      "cell_type": "code",
      "metadata": {
        "id": "OYYIa3lH5coW",
        "colab_type": "code",
        "outputId": "afb3926a-99e6-470e-9cab-f1858c7f1ed4",
        "colab": {
          "base_uri": "https://localhost:8080/",
          "height": 34
        }
      },
      "source": [
        "np.quantile(sent_lens_b,0.90)"
      ],
      "execution_count": 28,
      "outputs": [
        {
          "output_type": "execute_result",
          "data": {
            "text/plain": [
              "480.0"
            ]
          },
          "metadata": {
            "tags": []
          },
          "execution_count": 28
        }
      ]
    },
    {
      "cell_type": "code",
      "metadata": {
        "id": "RPazW1ao5f5m",
        "colab_type": "code",
        "colab": {}
      },
      "source": [
        "max_len_b = 600\n",
        "tok = Tokenizer(char_level=False,split=' ')\n",
        "tok.fit_on_texts(X_train_b)\n",
        "sequences_train_b = tok.texts_to_sequences(X_train_b)"
      ],
      "execution_count": 0,
      "outputs": []
    },
    {
      "cell_type": "code",
      "metadata": {
        "id": "YeLrqz7G5hrh",
        "colab_type": "code",
        "outputId": "5db38951-e35c-49c7-edb6-99f7bd540548",
        "colab": {
          "base_uri": "https://localhost:8080/",
          "height": 34
        }
      },
      "source": [
        "vocab_len_b =len(tok.index_word.keys())\n",
        "vocab_len_b"
      ],
      "execution_count": 30,
      "outputs": [
        {
          "output_type": "execute_result",
          "data": {
            "text/plain": [
              "185998"
            ]
          },
          "metadata": {
            "tags": []
          },
          "execution_count": 30
        }
      ]
    },
    {
      "cell_type": "code",
      "metadata": {
        "id": "eV22WlZb5kDS",
        "colab_type": "code",
        "outputId": "703c0b8f-d4ff-4624-df80-4f7ad8d60580",
        "colab": {
          "base_uri": "https://localhost:8080/",
          "height": 136
        }
      },
      "source": [
        "sequences_matrix_train_b = sequence.pad_sequences(sequences_train_b,maxlen=max_len_b)\n",
        "sequences_matrix_train_b"
      ],
      "execution_count": 31,
      "outputs": [
        {
          "output_type": "execute_result",
          "data": {
            "text/plain": [
              "array([[ 244,  558,  116, ...,  141,    5,    9],\n",
              "       [   0,    0,    0, ...,    5,  192,    1],\n",
              "       [   0,    0,    0, ...,  608,   39,    1],\n",
              "       ...,\n",
              "       [   0,    0,    0, ...,    3,    5,    9],\n",
              "       [   0,    0,    0, ...,  445,    5,    9],\n",
              "       [   0,    0,    0, ...,    2, 2069,    1]], dtype=int32)"
            ]
          },
          "metadata": {
            "tags": []
          },
          "execution_count": 31
        }
      ]
    },
    {
      "cell_type": "code",
      "metadata": {
        "id": "BU7eSGol5ojR",
        "colab_type": "code",
        "colab": {}
      },
      "source": [
        "sequences_test_b = tok.texts_to_sequences(X_test_b)\n",
        "sequences_matrix_test_b = sequence.pad_sequences(sequences_test_b,maxlen=max_len_b)"
      ],
      "execution_count": 0,
      "outputs": []
    },
    {
      "cell_type": "code",
      "metadata": {
        "id": "kQAjMXZt5qis",
        "colab_type": "code",
        "outputId": "48c9c5ae-1a7a-44fb-b1e2-baa982b0ed43",
        "colab": {
          "base_uri": "https://localhost:8080/",
          "height": 34
        }
      },
      "source": [
        "sequences_matrix_train_t.shape,sequences_matrix_train_b.shape,y_train.shape"
      ],
      "execution_count": 33,
      "outputs": [
        {
          "output_type": "execute_result",
          "data": {
            "text/plain": [
              "((57220, 18), (57220, 600), (57220, 25))"
            ]
          },
          "metadata": {
            "tags": []
          },
          "execution_count": 33
        }
      ]
    },
    {
      "cell_type": "code",
      "metadata": {
        "id": "OMFVqihD5tBF",
        "colab_type": "code",
        "outputId": "f75df509-baa2-437e-b126-f16e8f3f084a",
        "colab": {
          "base_uri": "https://localhost:8080/",
          "height": 34
        }
      },
      "source": [
        "sequences_matrix_test_t.shape,sequences_matrix_test_b.shape,y_test.shape"
      ],
      "execution_count": 34,
      "outputs": [
        {
          "output_type": "execute_result",
          "data": {
            "text/plain": [
              "((14306, 18), (14306, 600), (14306, 25))"
            ]
          },
          "metadata": {
            "tags": []
          },
          "execution_count": 34
        }
      ]
    },
    {
      "cell_type": "markdown",
      "metadata": {
        "id": "IIcE40M_dWAX",
        "colab_type": "text"
      },
      "source": [
        "## Training with LSTM model"
      ]
    },
    {
      "cell_type": "code",
      "metadata": {
        "id": "sZJdRFxd5xs1",
        "colab_type": "code",
        "colab": {}
      },
      "source": [
        "def LSTM_model():\n",
        "    # Title Only\n",
        "    title_input = Input(name='title_input',shape=[max_len_t])\n",
        "    title_Embed = Embedding(vocab_len_t+1,2000,input_length=max_len_t,mask_zero=True,name='title_Embed')(title_input)\n",
        "    lstm_out_t = LSTM(300)(title_Embed)\n",
        "    # auxiliary output to tune LSTM weights smoothly \n",
        "    auxiliary_output = Dense(25, activation='sigmoid', name='aux_output')(lstm_out_t)   \n",
        "    \n",
        "    # Body Only\n",
        "    body_input = Input(name='body_input',shape=[max_len_b]) \n",
        "    body_Embed = Embedding(vocab_len_b+1,170,input_length=max_len_b,mask_zero=True,name='body_Embed')(body_input)\n",
        "    lstm_out_b = LSTM(200)(body_Embed)\n",
        "    \n",
        "    # combined with LSTM output\n",
        "    com = concatenate([lstm_out_t, lstm_out_b])\n",
        "    \n",
        "    # now the combined data is being fed to dense layers\n",
        "    dense1 = Dense(400,activation='relu')(com)\n",
        "    dp1 = Dropout(0.5)(dense1)\n",
        "    bn = BatchNormalization()(dp1) \n",
        "    dense2 = Dense(150,activation='relu')(bn)\n",
        "    \n",
        "    main_output = Dense(25, activation='sigmoid', name='main_output')(dense2)\n",
        "    \n",
        "    model = Model(inputs=[title_input, body_input],outputs=[main_output, auxiliary_output])\n",
        "    return model"
      ],
      "execution_count": 0,
      "outputs": []
    },
    {
      "cell_type": "code",
      "metadata": {
        "id": "0zqPtTIM72yn",
        "colab_type": "code",
        "outputId": "842aa43b-808e-4b1f-9ff3-a486dac70c96",
        "colab": {
          "base_uri": "https://localhost:8080/",
          "height": 870
        }
      },
      "source": [
        "model = LSTM_model()\n",
        "model.summary()"
      ],
      "execution_count": 36,
      "outputs": [
        {
          "output_type": "stream",
          "text": [
            "WARNING:tensorflow:From /usr/local/lib/python3.6/dist-packages/keras/backend/tensorflow_backend.py:541: The name tf.placeholder is deprecated. Please use tf.compat.v1.placeholder instead.\n",
            "\n",
            "WARNING:tensorflow:From /usr/local/lib/python3.6/dist-packages/keras/backend/tensorflow_backend.py:4432: The name tf.random_uniform is deprecated. Please use tf.random.uniform instead.\n",
            "\n",
            "WARNING:tensorflow:From /usr/local/lib/python3.6/dist-packages/keras/backend/tensorflow_backend.py:66: The name tf.get_default_graph is deprecated. Please use tf.compat.v1.get_default_graph instead.\n",
            "\n",
            "WARNING:tensorflow:From /usr/local/lib/python3.6/dist-packages/keras/backend/tensorflow_backend.py:3239: where (from tensorflow.python.ops.array_ops) is deprecated and will be removed in a future version.\n",
            "Instructions for updating:\n",
            "Use tf.where in 2.0, which has the same broadcast rule as np.where\n",
            "WARNING:tensorflow:From /usr/local/lib/python3.6/dist-packages/keras/backend/tensorflow_backend.py:148: The name tf.placeholder_with_default is deprecated. Please use tf.compat.v1.placeholder_with_default instead.\n",
            "\n",
            "WARNING:tensorflow:From /usr/local/lib/python3.6/dist-packages/keras/backend/tensorflow_backend.py:3733: calling dropout (from tensorflow.python.ops.nn_ops) with keep_prob is deprecated and will be removed in a future version.\n",
            "Instructions for updating:\n",
            "Please use `rate` instead of `keep_prob`. Rate should be set to `rate = 1 - keep_prob`.\n",
            "Model: \"model_1\"\n",
            "__________________________________________________________________________________________________\n",
            "Layer (type)                    Output Shape         Param #     Connected to                     \n",
            "==================================================================================================\n",
            "title_input (InputLayer)        (None, 18)           0                                            \n",
            "__________________________________________________________________________________________________\n",
            "body_input (InputLayer)         (None, 600)          0                                            \n",
            "__________________________________________________________________________________________________\n",
            "title_Embed (Embedding)         (None, 18, 2000)     33246000    title_input[0][0]                \n",
            "__________________________________________________________________________________________________\n",
            "body_Embed (Embedding)          (None, 600, 170)     31619830    body_input[0][0]                 \n",
            "__________________________________________________________________________________________________\n",
            "lstm_1 (LSTM)                   (None, 300)          2761200     title_Embed[0][0]                \n",
            "__________________________________________________________________________________________________\n",
            "lstm_2 (LSTM)                   (None, 200)          296800      body_Embed[0][0]                 \n",
            "__________________________________________________________________________________________________\n",
            "concatenate_1 (Concatenate)     (None, 500)          0           lstm_1[0][0]                     \n",
            "                                                                 lstm_2[0][0]                     \n",
            "__________________________________________________________________________________________________\n",
            "dense_1 (Dense)                 (None, 400)          200400      concatenate_1[0][0]              \n",
            "__________________________________________________________________________________________________\n",
            "dropout_1 (Dropout)             (None, 400)          0           dense_1[0][0]                    \n",
            "__________________________________________________________________________________________________\n",
            "batch_normalization_1 (BatchNor (None, 400)          1600        dropout_1[0][0]                  \n",
            "__________________________________________________________________________________________________\n",
            "dense_2 (Dense)                 (None, 150)          60150       batch_normalization_1[0][0]      \n",
            "__________________________________________________________________________________________________\n",
            "main_output (Dense)             (None, 25)           3775        dense_2[0][0]                    \n",
            "__________________________________________________________________________________________________\n",
            "aux_output (Dense)              (None, 25)           7525        lstm_1[0][0]                     \n",
            "==================================================================================================\n",
            "Total params: 68,197,280\n",
            "Trainable params: 68,196,480\n",
            "Non-trainable params: 800\n",
            "__________________________________________________________________________________________________\n"
          ],
          "name": "stdout"
        }
      ]
    },
    {
      "cell_type": "markdown",
      "metadata": {
        "id": "dTaOmqwhdbfH",
        "colab_type": "text"
      },
      "source": [
        "**Install the RAdam**\n",
        "\n",
        "A new optimizer based on [this paper](https://arxiv.org/pdf/1908.03265.pdf) The Rectified Adam is proved to be more effective than Adam and Vanilla Adam. "
      ]
    },
    {
      "cell_type": "code",
      "metadata": {
        "id": "WzMviUSu7_za",
        "colab_type": "code",
        "outputId": "3c795083-7233-40ac-8d57-c27254f28e8b",
        "colab": {
          "base_uri": "https://localhost:8080/",
          "height": 326
        }
      },
      "source": [
        "!pip install keras-rectified-adam\n",
        "from keras_radam import RAdam"
      ],
      "execution_count": 37,
      "outputs": [
        {
          "output_type": "stream",
          "text": [
            "Collecting keras-rectified-adam\n",
            "  Downloading https://files.pythonhosted.org/packages/21/79/9521f66b92186702cb58a214c1b923b416266381cd824e15a1733f6a5b06/keras-rectified-adam-0.17.0.tar.gz\n",
            "Requirement already satisfied: numpy in /usr/local/lib/python3.6/dist-packages (from keras-rectified-adam) (1.16.5)\n",
            "Requirement already satisfied: Keras in /usr/local/lib/python3.6/dist-packages (from keras-rectified-adam) (2.2.5)\n",
            "Requirement already satisfied: keras-preprocessing>=1.1.0 in /usr/local/lib/python3.6/dist-packages (from Keras->keras-rectified-adam) (1.1.0)\n",
            "Requirement already satisfied: six>=1.9.0 in /usr/local/lib/python3.6/dist-packages (from Keras->keras-rectified-adam) (1.12.0)\n",
            "Requirement already satisfied: h5py in /usr/local/lib/python3.6/dist-packages (from Keras->keras-rectified-adam) (2.8.0)\n",
            "Requirement already satisfied: scipy>=0.14 in /usr/local/lib/python3.6/dist-packages (from Keras->keras-rectified-adam) (1.3.1)\n",
            "Requirement already satisfied: pyyaml in /usr/local/lib/python3.6/dist-packages (from Keras->keras-rectified-adam) (3.13)\n",
            "Requirement already satisfied: keras-applications>=1.0.8 in /usr/local/lib/python3.6/dist-packages (from Keras->keras-rectified-adam) (1.0.8)\n",
            "Building wheels for collected packages: keras-rectified-adam\n",
            "  Building wheel for keras-rectified-adam (setup.py) ... \u001b[?25l\u001b[?25hdone\n",
            "  Created wheel for keras-rectified-adam: filename=keras_rectified_adam-0.17.0-cp36-none-any.whl size=14781 sha256=04fdf057a0d98824014511a027c67d0da0b6636f90f2a2443355a282b54816e4\n",
            "  Stored in directory: /root/.cache/pip/wheels/7b/01/27/3a934e1a5644f5b93c720422a6ef97034ea78a21ba71cfb549\n",
            "Successfully built keras-rectified-adam\n",
            "Installing collected packages: keras-rectified-adam\n",
            "Successfully installed keras-rectified-adam-0.17.0\n"
          ],
          "name": "stdout"
        }
      ]
    },
    {
      "cell_type": "markdown",
      "metadata": {
        "id": "oHMqFd7rd5kG",
        "colab_type": "text"
      },
      "source": [
        "**Training the data**"
      ]
    },
    {
      "cell_type": "code",
      "metadata": {
        "id": "m9ajRDam77Mg",
        "colab_type": "code",
        "colab": {
          "base_uri": "https://localhost:8080/",
          "height": 105
        },
        "outputId": "a85382e2-b08a-4fe5-e8e0-0a3d3c89ef0c"
      },
      "source": [
        "optimizer=RAdam(min_lr=1e-5)\n",
        "\n",
        "model.compile(optimizer,loss={'main_output': 'categorical_crossentropy', 'aux_output': 'categorical_crossentropy'},\n",
        "              metrics=['accuracy'])"
      ],
      "execution_count": 38,
      "outputs": [
        {
          "output_type": "stream",
          "text": [
            "WARNING:tensorflow:From /usr/local/lib/python3.6/dist-packages/keras/optimizers.py:793: The name tf.train.Optimizer is deprecated. Please use tf.compat.v1.train.Optimizer instead.\n",
            "\n",
            "WARNING:tensorflow:From /usr/local/lib/python3.6/dist-packages/keras/backend/tensorflow_backend.py:3576: The name tf.log is deprecated. Please use tf.math.log instead.\n",
            "\n"
          ],
          "name": "stdout"
        }
      ]
    },
    {
      "cell_type": "code",
      "metadata": {
        "id": "5X49ovXR8YNd",
        "colab_type": "code",
        "outputId": "7a0759a3-7c8c-4d7f-c81f-d83a8149ad96",
        "colab": {
          "base_uri": "https://localhost:8080/",
          "height": 666
        }
      },
      "source": [
        "results=model.fit({'title_input': sequences_matrix_train_t, 'body_input': sequences_matrix_train_b},\n",
        "          {'main_output': y_train, 'aux_output': y_train},\n",
        "          validation_data=[{'title_input': sequences_matrix_test_t, 'body_input': sequences_matrix_test_b},\n",
        "          {'main_output': y_test, 'aux_output': y_test}],\n",
        "          epochs=10, batch_size=800)"
      ],
      "execution_count": 39,
      "outputs": [
        {
          "output_type": "stream",
          "text": [
            "WARNING:tensorflow:From /usr/local/lib/python3.6/dist-packages/keras/backend/tensorflow_backend.py:1033: The name tf.assign_add is deprecated. Please use tf.compat.v1.assign_add instead.\n",
            "\n",
            "WARNING:tensorflow:From /usr/local/lib/python3.6/dist-packages/keras/backend/tensorflow_backend.py:1020: The name tf.assign is deprecated. Please use tf.compat.v1.assign instead.\n",
            "\n",
            "WARNING:tensorflow:From /usr/local/lib/python3.6/dist-packages/keras/backend/tensorflow_backend.py:3005: The name tf.Session is deprecated. Please use tf.compat.v1.Session instead.\n",
            "\n",
            "Train on 57220 samples, validate on 14306 samples\n",
            "Epoch 1/10\n",
            "WARNING:tensorflow:From /usr/local/lib/python3.6/dist-packages/keras/backend/tensorflow_backend.py:190: The name tf.get_default_session is deprecated. Please use tf.compat.v1.get_default_session instead.\n",
            "\n",
            "WARNING:tensorflow:From /usr/local/lib/python3.6/dist-packages/keras/backend/tensorflow_backend.py:197: The name tf.ConfigProto is deprecated. Please use tf.compat.v1.ConfigProto instead.\n",
            "\n",
            "WARNING:tensorflow:From /usr/local/lib/python3.6/dist-packages/keras/backend/tensorflow_backend.py:207: The name tf.global_variables is deprecated. Please use tf.compat.v1.global_variables instead.\n",
            "\n",
            "WARNING:tensorflow:From /usr/local/lib/python3.6/dist-packages/keras/backend/tensorflow_backend.py:216: The name tf.is_variable_initialized is deprecated. Please use tf.compat.v1.is_variable_initialized instead.\n",
            "\n",
            "WARNING:tensorflow:From /usr/local/lib/python3.6/dist-packages/keras/backend/tensorflow_backend.py:223: The name tf.variables_initializer is deprecated. Please use tf.compat.v1.variables_initializer instead.\n",
            "\n",
            "57220/57220 [==============================] - 225s 4ms/step - loss: 38.6451 - main_output_loss: 18.9699 - aux_output_loss: 19.6753 - main_output_acc: 0.0867 - aux_output_acc: 0.0503 - val_loss: 36.4084 - val_main_output_loss: 16.9131 - val_aux_output_loss: 19.4953 - val_main_output_acc: 0.1148 - val_aux_output_acc: 0.1218\n",
            "Epoch 2/10\n",
            "57220/57220 [==============================] - 218s 4ms/step - loss: 34.9324 - main_output_loss: 16.2236 - aux_output_loss: 18.7088 - main_output_acc: 0.0940 - aux_output_acc: 0.1856 - val_loss: 32.9846 - val_main_output_loss: 15.5566 - val_aux_output_loss: 17.4281 - val_main_output_acc: 0.1674 - val_aux_output_acc: 0.2377\n",
            "Epoch 3/10\n",
            "57220/57220 [==============================] - 216s 4ms/step - loss: 31.5676 - main_output_loss: 15.0140 - aux_output_loss: 16.5536 - main_output_acc: 0.1746 - aux_output_acc: 0.2358 - val_loss: 30.7189 - val_main_output_loss: 14.7265 - val_aux_output_loss: 15.9924 - val_main_output_acc: 0.2184 - val_aux_output_acc: 0.2251\n",
            "Epoch 4/10\n",
            "57220/57220 [==============================] - 216s 4ms/step - loss: 29.7055 - main_output_loss: 14.2477 - aux_output_loss: 15.4578 - main_output_acc: 0.2185 - aux_output_acc: 0.2200 - val_loss: 29.8423 - val_main_output_loss: 14.4214 - val_aux_output_loss: 15.4209 - val_main_output_acc: 0.2352 - val_aux_output_acc: 0.2485\n",
            "Epoch 5/10\n",
            "57220/57220 [==============================] - 217s 4ms/step - loss: 28.6579 - main_output_loss: 13.7998 - aux_output_loss: 14.8581 - main_output_acc: 0.2131 - aux_output_acc: 0.2522 - val_loss: 29.5960 - val_main_output_loss: 14.4117 - val_aux_output_loss: 15.1843 - val_main_output_acc: 0.2075 - val_aux_output_acc: 0.2553\n",
            "Epoch 6/10\n",
            "57220/57220 [==============================] - 217s 4ms/step - loss: 27.9276 - main_output_loss: 13.4527 - aux_output_loss: 14.4748 - main_output_acc: 0.2038 - aux_output_acc: 0.2410 - val_loss: 29.4595 - val_main_output_loss: 14.4367 - val_aux_output_loss: 15.0229 - val_main_output_acc: 0.1989 - val_aux_output_acc: 0.2067\n",
            "Epoch 7/10\n",
            "57220/57220 [==============================] - 216s 4ms/step - loss: 27.4475 - main_output_loss: 13.2200 - aux_output_loss: 14.2275 - main_output_acc: 0.1843 - aux_output_acc: 0.2237 - val_loss: 29.6977 - val_main_output_loss: 14.7026 - val_aux_output_loss: 14.9951 - val_main_output_acc: 0.1680 - val_aux_output_acc: 0.1760\n",
            "Epoch 8/10\n",
            "57220/57220 [==============================] - 217s 4ms/step - loss: 27.0658 - main_output_loss: 13.0073 - aux_output_loss: 14.0586 - main_output_acc: 0.1629 - aux_output_acc: 0.2018 - val_loss: 29.8365 - val_main_output_loss: 14.7862 - val_aux_output_loss: 15.0504 - val_main_output_acc: 0.1628 - val_aux_output_acc: 0.2068\n",
            "Epoch 9/10\n",
            "57220/57220 [==============================] - 217s 4ms/step - loss: 26.7962 - main_output_loss: 12.8620 - aux_output_loss: 13.9341 - main_output_acc: 0.1634 - aux_output_acc: 0.1945 - val_loss: 30.1714 - val_main_output_loss: 15.0723 - val_aux_output_loss: 15.0991 - val_main_output_acc: 0.1520 - val_aux_output_acc: 0.1936\n",
            "Epoch 10/10\n",
            "57220/57220 [==============================] - 216s 4ms/step - loss: 26.5624 - main_output_loss: 12.7366 - aux_output_loss: 13.8258 - main_output_acc: 0.1541 - aux_output_acc: 0.1959 - val_loss: 30.4925 - val_main_output_loss: 15.3535 - val_aux_output_loss: 15.1390 - val_main_output_acc: 0.1729 - val_aux_output_acc: 0.1688\n"
          ],
          "name": "stdout"
        }
      ]
    },
    {
      "cell_type": "markdown",
      "metadata": {
        "id": "RTj8XOZ3d_KY",
        "colab_type": "text"
      },
      "source": [
        "### Results trained with LSTM model"
      ]
    },
    {
      "cell_type": "code",
      "metadata": {
        "id": "2_ypywA68vVd",
        "colab_type": "code",
        "outputId": "c6c29fec-8be8-450b-cd23-49f000a59597",
        "colab": {
          "base_uri": "https://localhost:8080/",
          "height": 34
        }
      },
      "source": [
        "(predicted_main, predicted_aux)=model.predict({'title_input': sequences_matrix_test_t, 'body_input': sequences_matrix_test_b},verbose=1)"
      ],
      "execution_count": 40,
      "outputs": [
        {
          "output_type": "stream",
          "text": [
            "14306/14306 [==============================] - 276s 19ms/step\n"
          ],
          "name": "stdout"
        }
      ]
    },
    {
      "cell_type": "code",
      "metadata": {
        "id": "yBqVVqaz8ypL",
        "colab_type": "code",
        "outputId": "ca5770f2-67c6-4e99-aaa2-23cf80888b59",
        "colab": {
          "base_uri": "https://localhost:8080/",
          "height": 88
        }
      },
      "source": [
        "from sklearn.metrics import classification_report,f1_score\n",
        "print(f1_score(y_test,predicted_main>.55,average='samples'))"
      ],
      "execution_count": 41,
      "outputs": [
        {
          "output_type": "stream",
          "text": [
            "0.7819872455658101\n"
          ],
          "name": "stdout"
        },
        {
          "output_type": "stream",
          "text": [
            "/usr/local/lib/python3.6/dist-packages/sklearn/metrics/classification.py:1437: UndefinedMetricWarning: F-score is ill-defined and being set to 0.0 in samples with no predicted labels.\n",
            "  'precision', 'predicted', average, warn_for)\n"
          ],
          "name": "stderr"
        }
      ]
    },
    {
      "cell_type": "code",
      "metadata": {
        "id": "uNugGWvF82Oh",
        "colab_type": "code",
        "outputId": "6a38aeeb-ecc7-412c-9cbf-abc923faceb1",
        "colab": {
          "base_uri": "https://localhost:8080/",
          "height": 632
        }
      },
      "source": [
        "print(classification_report(y_test,predicted_main>.55))"
      ],
      "execution_count": 42,
      "outputs": [
        {
          "output_type": "stream",
          "text": [
            "              precision    recall  f1-score   support\n",
            "\n",
            "           0       0.53      0.49      0.51      3178\n",
            "           1       0.65      0.51      0.57      1355\n",
            "           2       0.66      0.51      0.58       618\n",
            "           3       0.82      0.59      0.68       623\n",
            "           4       0.82      0.70      0.76       901\n",
            "           5       0.91      0.80      0.85      6601\n",
            "           6       0.81      0.59      0.68       623\n",
            "           7       0.84      0.72      0.78      5362\n",
            "           8       0.93      0.91      0.92      2385\n",
            "           9       0.87      0.81      0.84      3675\n",
            "          10       0.80      0.86      0.83      3791\n",
            "          11       0.90      0.81      0.85      5418\n",
            "          12       0.91      0.77      0.83      4593\n",
            "          13       0.78      0.82      0.80      2187\n",
            "          14       0.76      0.80      0.78      1807\n",
            "          15       0.91      0.89      0.90      5060\n",
            "          16       0.92      0.91      0.91      4159\n",
            "          17       0.85      0.79      0.82      6070\n",
            "          18       0.88      0.85      0.86      3306\n",
            "          19       0.95      0.89      0.92      5756\n",
            "          20       0.86      0.76      0.81      5330\n",
            "          21       0.80      0.67      0.73      4279\n",
            "          22       0.90      0.83      0.87      2425\n",
            "          23       0.80      0.61      0.69      3526\n",
            "          24       0.88      0.84      0.86      4351\n",
            "\n",
            "   micro avg       0.86      0.78      0.82     87379\n",
            "   macro avg       0.83      0.75      0.79     87379\n",
            "weighted avg       0.85      0.78      0.82     87379\n",
            " samples avg       0.82      0.80      0.78     87379\n",
            "\n"
          ],
          "name": "stdout"
        },
        {
          "output_type": "stream",
          "text": [
            "/usr/local/lib/python3.6/dist-packages/sklearn/metrics/classification.py:1437: UndefinedMetricWarning: Precision and F-score are ill-defined and being set to 0.0 in samples with no predicted labels.\n",
            "  'precision', 'predicted', average, warn_for)\n"
          ],
          "name": "stderr"
        }
      ]
    },
    {
      "cell_type": "code",
      "metadata": {
        "id": "uu0P_X-p84Br",
        "colab_type": "code",
        "outputId": "e629a4b1-1d42-4ea9-845b-7de93a10a2c2",
        "colab": {
          "base_uri": "https://localhost:8080/",
          "height": 102
        }
      },
      "source": [
        "test.iloc[24]"
      ],
      "execution_count": 43,
      "outputs": [
        {
          "output_type": "execute_result",
          "data": {
            "text/plain": [
              "Id                                                 2586970\n",
              "Title                                    Android: UnitTest\n",
              "Body     <p>Need some advice. I have an App. And I need...\n",
              "Tags                                               android\n",
              "Name: 54121, dtype: object"
            ]
          },
          "metadata": {
            "tags": []
          },
          "execution_count": 43
        }
      ]
    },
    {
      "cell_type": "code",
      "metadata": {
        "id": "1wefxrjd85sP",
        "colab_type": "code",
        "outputId": "32a1d065-0ae3-42e6-d922-a3e4b8a4f1aa",
        "colab": {
          "base_uri": "https://localhost:8080/",
          "height": 68
        }
      },
      "source": [
        "predicted_main[24].round(decimals = 2)"
      ],
      "execution_count": 44,
      "outputs": [
        {
          "output_type": "execute_result",
          "data": {
            "text/plain": [
              "array([0.04, 0.  , 0.  , 0.  , 0.  , 1.  , 0.  , 0.  , 1.  , 0.  , 0.  ,\n",
              "       1.  , 0.05, 0.  , 0.  , 1.  , 1.  , 0.  , 0.  , 1.  , 0.  , 0.  ,\n",
              "       0.  , 0.05, 0.  ], dtype=float32)"
            ]
          },
          "metadata": {
            "tags": []
          },
          "execution_count": 44
        }
      ]
    },
    {
      "cell_type": "code",
      "metadata": {
        "id": "Nd8rAFie87k8",
        "colab_type": "code",
        "outputId": "5960812b-56c6-443e-aa5b-f2cbfc4d7031",
        "colab": {
          "base_uri": "https://localhost:8080/",
          "height": 68
        }
      },
      "source": [
        "labels"
      ],
      "execution_count": 45,
      "outputs": [
        {
          "output_type": "execute_result",
          "data": {
            "text/plain": [
              "array([' ', '#', '+', '-', '.', 'a', 'b', 'c', 'd', 'e', 'h', 'i', 'j',\n",
              "       'l', 'm', 'n', 'o', 'p', 'q', 'r', 's', 't', 'u', 'v', 'y'],\n",
              "      dtype=object)"
            ]
          },
          "metadata": {
            "tags": []
          },
          "execution_count": 45
        }
      ]
    },
    {
      "cell_type": "code",
      "metadata": {
        "id": "ltxLEWy489M_",
        "colab_type": "code",
        "colab": {}
      },
      "source": [
        "model.save('./stackoverflow_tags_lstm.h5')"
      ],
      "execution_count": 0,
      "outputs": []
    },
    {
      "cell_type": "markdown",
      "metadata": {
        "id": "2gArKcwMeGc7",
        "colab_type": "text"
      },
      "source": [
        "## Training with GRU Model"
      ]
    },
    {
      "cell_type": "code",
      "metadata": {
        "id": "o8iSP2EmG48U",
        "colab_type": "code",
        "colab": {}
      },
      "source": [
        "def GRU_model():\n",
        "    # Title Only\n",
        "    title_input = Input(name='title_input',shape=[max_len_t])\n",
        "    title_Embed = Embedding(vocab_len_t+1,2000,input_length=max_len_t,mask_zero=True,name='title_Embed')(title_input)\n",
        "    gru_out_t = GRU(300)(title_Embed)\n",
        "    # auxiliary output to tune GRU weights smoothly \n",
        "    auxiliary_output = Dense(25, activation='sigmoid', name='aux_output')(gru_out_t)   \n",
        "    \n",
        "    # Body Only\n",
        "    body_input = Input(name='body_input',shape=[max_len_b]) \n",
        "    body_Embed = Embedding(vocab_len_b+1,170,input_length=max_len_b,mask_zero=True,name='body_Embed')(body_input)\n",
        "    gru_out_b = GRU(200)(body_Embed)\n",
        "    \n",
        "    # combined with GRU output\n",
        "    com = concatenate([gru_out_t, gru_out_b])\n",
        "    \n",
        "    # now the combined data is being fed to dense layers\n",
        "    dense1 = Dense(400,activation='relu')(com)\n",
        "    dp1 = Dropout(0.5)(dense1)\n",
        "    bn = BatchNormalization()(dp1) \n",
        "    dense2 = Dense(150,activation='relu')(bn)\n",
        "    \n",
        "    main_output = Dense(25, activation='sigmoid', name='main_output')(dense2)\n",
        "    \n",
        "    model = Model(inputs=[title_input, body_input],outputs=[main_output, auxiliary_output])\n",
        "    return model"
      ],
      "execution_count": 0,
      "outputs": []
    },
    {
      "cell_type": "code",
      "metadata": {
        "id": "ncYTAPW2HAPU",
        "colab_type": "code",
        "colab": {
          "base_uri": "https://localhost:8080/",
          "height": 612
        },
        "outputId": "9acb3c48-e170-4470-cdff-e1d63d4d6d34"
      },
      "source": [
        "model = GRU_model()\n",
        "model.summary()"
      ],
      "execution_count": 48,
      "outputs": [
        {
          "output_type": "stream",
          "text": [
            "Model: \"model_2\"\n",
            "__________________________________________________________________________________________________\n",
            "Layer (type)                    Output Shape         Param #     Connected to                     \n",
            "==================================================================================================\n",
            "title_input (InputLayer)        (None, 18)           0                                            \n",
            "__________________________________________________________________________________________________\n",
            "body_input (InputLayer)         (None, 600)          0                                            \n",
            "__________________________________________________________________________________________________\n",
            "title_Embed (Embedding)         (None, 18, 2000)     33246000    title_input[0][0]                \n",
            "__________________________________________________________________________________________________\n",
            "body_Embed (Embedding)          (None, 600, 170)     31619830    body_input[0][0]                 \n",
            "__________________________________________________________________________________________________\n",
            "gru_1 (GRU)                     (None, 300)          2070900     title_Embed[0][0]                \n",
            "__________________________________________________________________________________________________\n",
            "gru_2 (GRU)                     (None, 200)          222600      body_Embed[0][0]                 \n",
            "__________________________________________________________________________________________________\n",
            "concatenate_2 (Concatenate)     (None, 500)          0           gru_1[0][0]                      \n",
            "                                                                 gru_2[0][0]                      \n",
            "__________________________________________________________________________________________________\n",
            "dense_3 (Dense)                 (None, 400)          200400      concatenate_2[0][0]              \n",
            "__________________________________________________________________________________________________\n",
            "dropout_2 (Dropout)             (None, 400)          0           dense_3[0][0]                    \n",
            "__________________________________________________________________________________________________\n",
            "batch_normalization_2 (BatchNor (None, 400)          1600        dropout_2[0][0]                  \n",
            "__________________________________________________________________________________________________\n",
            "dense_4 (Dense)                 (None, 150)          60150       batch_normalization_2[0][0]      \n",
            "__________________________________________________________________________________________________\n",
            "main_output (Dense)             (None, 25)           3775        dense_4[0][0]                    \n",
            "__________________________________________________________________________________________________\n",
            "aux_output (Dense)              (None, 25)           7525        gru_1[0][0]                      \n",
            "==================================================================================================\n",
            "Total params: 67,432,780\n",
            "Trainable params: 67,431,980\n",
            "Non-trainable params: 800\n",
            "__________________________________________________________________________________________________\n"
          ],
          "name": "stdout"
        }
      ]
    },
    {
      "cell_type": "code",
      "metadata": {
        "id": "HyTgN6j9HGd8",
        "colab_type": "code",
        "colab": {}
      },
      "source": [
        "ptimizer=RAdam(min_lr=1e-5)\n",
        "\n",
        "model.compile(optimizer,loss={'main_output': 'categorical_crossentropy', 'aux_output': 'categorical_crossentropy'},\n",
        "              metrics=['accuracy'])"
      ],
      "execution_count": 0,
      "outputs": []
    },
    {
      "cell_type": "code",
      "metadata": {
        "id": "m-Sq5-DCHLb4",
        "colab_type": "code",
        "colab": {
          "base_uri": "https://localhost:8080/",
          "height": 394
        },
        "outputId": "3549835f-118d-48a8-d410-585cf6eb55aa"
      },
      "source": [
        "results=model.fit({'title_input': sequences_matrix_train_t, 'body_input': sequences_matrix_train_b},\n",
        "          {'main_output': y_train, 'aux_output': y_train},\n",
        "          validation_data=[{'title_input': sequences_matrix_test_t, 'body_input': sequences_matrix_test_b},\n",
        "          {'main_output': y_test, 'aux_output': y_test}],\n",
        "          epochs=10, batch_size=800)"
      ],
      "execution_count": 50,
      "outputs": [
        {
          "output_type": "stream",
          "text": [
            "Train on 57220 samples, validate on 14306 samples\n",
            "Epoch 1/10\n",
            "57220/57220 [==============================] - 170s 3ms/step - loss: 32.4817 - main_output_loss: 15.9856 - aux_output_loss: 16.4961 - main_output_acc: 0.1372 - aux_output_acc: 0.2126 - val_loss: 30.0264 - val_main_output_loss: 14.9297 - val_aux_output_loss: 15.0967 - val_main_output_acc: 0.1677 - val_aux_output_acc: 0.2557\n",
            "Epoch 2/10\n",
            "57220/57220 [==============================] - 167s 3ms/step - loss: 29.0149 - main_output_loss: 14.4208 - aux_output_loss: 14.5941 - main_output_acc: 0.1898 - aux_output_acc: 0.2333 - val_loss: 29.3455 - val_main_output_loss: 14.5078 - val_aux_output_loss: 14.8377 - val_main_output_acc: 0.2084 - val_aux_output_acc: 0.1872\n",
            "Epoch 3/10\n",
            "57220/57220 [==============================] - 167s 3ms/step - loss: 27.8689 - main_output_loss: 13.7630 - aux_output_loss: 14.1059 - main_output_acc: 0.2014 - aux_output_acc: 0.1994 - val_loss: 29.2570 - val_main_output_loss: 14.3538 - val_aux_output_loss: 14.9032 - val_main_output_acc: 0.1760 - val_aux_output_acc: 0.1676\n",
            "Epoch 4/10\n",
            "57220/57220 [==============================] - 167s 3ms/step - loss: 27.1820 - main_output_loss: 13.3645 - aux_output_loss: 13.8175 - main_output_acc: 0.2033 - aux_output_acc: 0.1991 - val_loss: 29.3873 - val_main_output_loss: 14.3520 - val_aux_output_loss: 15.0353 - val_main_output_acc: 0.1755 - val_aux_output_acc: 0.1868\n",
            "Epoch 5/10\n",
            "57220/57220 [==============================] - 167s 3ms/step - loss: 26.6689 - main_output_loss: 13.0542 - aux_output_loss: 13.6147 - main_output_acc: 0.1993 - aux_output_acc: 0.1949 - val_loss: 29.9030 - val_main_output_loss: 14.6316 - val_aux_output_loss: 15.2714 - val_main_output_acc: 0.1874 - val_aux_output_acc: 0.1562\n",
            "Epoch 6/10\n",
            "57220/57220 [==============================] - 167s 3ms/step - loss: 26.2526 - main_output_loss: 12.7915 - aux_output_loss: 13.4611 - main_output_acc: 0.1893 - aux_output_acc: 0.1988 - val_loss: 30.3205 - val_main_output_loss: 14.8907 - val_aux_output_loss: 15.4298 - val_main_output_acc: 0.1827 - val_aux_output_acc: 0.1729\n",
            "Epoch 7/10\n",
            "57220/57220 [==============================] - 166s 3ms/step - loss: 25.9342 - main_output_loss: 12.6009 - aux_output_loss: 13.3333 - main_output_acc: 0.1893 - aux_output_acc: 0.2001 - val_loss: 31.3157 - val_main_output_loss: 15.6012 - val_aux_output_loss: 15.7144 - val_main_output_acc: 0.1875 - val_aux_output_acc: 0.1845\n",
            "Epoch 8/10\n",
            "57220/57220 [==============================] - 166s 3ms/step - loss: 25.6997 - main_output_loss: 12.4722 - aux_output_loss: 13.2275 - main_output_acc: 0.1765 - aux_output_acc: 0.2103 - val_loss: 32.0481 - val_main_output_loss: 16.0661 - val_aux_output_loss: 15.9820 - val_main_output_acc: 0.1802 - val_aux_output_acc: 0.1795\n",
            "Epoch 9/10\n",
            "57220/57220 [==============================] - 166s 3ms/step - loss: 25.4947 - main_output_loss: 12.3732 - aux_output_loss: 13.1215 - main_output_acc: 0.1901 - aux_output_acc: 0.2116 - val_loss: 32.6284 - val_main_output_loss: 16.3987 - val_aux_output_loss: 16.2297 - val_main_output_acc: 0.1476 - val_aux_output_acc: 0.1916\n",
            "Epoch 10/10\n",
            "57220/57220 [==============================] - 166s 3ms/step - loss: 25.3442 - main_output_loss: 12.3094 - aux_output_loss: 13.0348 - main_output_acc: 0.1816 - aux_output_acc: 0.2170 - val_loss: 33.1980 - val_main_output_loss: 16.7834 - val_aux_output_loss: 16.4145 - val_main_output_acc: 0.1718 - val_aux_output_acc: 0.1643\n"
          ],
          "name": "stdout"
        }
      ]
    },
    {
      "cell_type": "code",
      "metadata": {
        "id": "KaLL_m4THRM4",
        "colab_type": "code",
        "colab": {
          "base_uri": "https://localhost:8080/",
          "height": 34
        },
        "outputId": "057015a6-aa06-4931-f24c-f30ce7418d40"
      },
      "source": [
        "(predicted_main, predicted_aux)=model.predict({'title_input': sequences_matrix_test_t, 'body_input': sequences_matrix_test_b},verbose=1)"
      ],
      "execution_count": 51,
      "outputs": [
        {
          "output_type": "stream",
          "text": [
            "14306/14306 [==============================] - 242s 17ms/step\n"
          ],
          "name": "stdout"
        }
      ]
    },
    {
      "cell_type": "code",
      "metadata": {
        "id": "0bbaXA9RHVyj",
        "colab_type": "code",
        "colab": {}
      },
      "source": [
        "from sklearn.metrics import classification_report,f1_score"
      ],
      "execution_count": 0,
      "outputs": []
    },
    {
      "cell_type": "code",
      "metadata": {
        "id": "OsFzKdDJHX2u",
        "colab_type": "code",
        "colab": {
          "base_uri": "https://localhost:8080/",
          "height": 88
        },
        "outputId": "e42aa696-fb59-4c28-bac1-9f8b02e05b47"
      },
      "source": [
        "print(f1_score(y_test,predicted_main>.55,average='samples'))"
      ],
      "execution_count": 53,
      "outputs": [
        {
          "output_type": "stream",
          "text": [
            "0.8006064500982707\n"
          ],
          "name": "stdout"
        },
        {
          "output_type": "stream",
          "text": [
            "/usr/local/lib/python3.6/dist-packages/sklearn/metrics/classification.py:1437: UndefinedMetricWarning: F-score is ill-defined and being set to 0.0 in samples with no predicted labels.\n",
            "  'precision', 'predicted', average, warn_for)\n"
          ],
          "name": "stderr"
        }
      ]
    },
    {
      "cell_type": "code",
      "metadata": {
        "id": "goSpIq1CHen7",
        "colab_type": "code",
        "colab": {
          "base_uri": "https://localhost:8080/",
          "height": 632
        },
        "outputId": "8004d1cd-a4d9-4c68-de09-2bdb1bbe519b"
      },
      "source": [
        "print(classification_report(y_test,predicted_main>.55))"
      ],
      "execution_count": 54,
      "outputs": [
        {
          "output_type": "stream",
          "text": [
            "              precision    recall  f1-score   support\n",
            "\n",
            "           0       0.54      0.48      0.51      3178\n",
            "           1       0.67      0.58      0.62      1355\n",
            "           2       0.64      0.66      0.65       618\n",
            "           3       0.79      0.64      0.70       623\n",
            "           4       0.81      0.73      0.77       901\n",
            "           5       0.88      0.85      0.86      6601\n",
            "           6       0.79      0.64      0.71       623\n",
            "           7       0.81      0.80      0.80      5362\n",
            "           8       0.94      0.92      0.93      2385\n",
            "           9       0.88      0.81      0.85      3675\n",
            "          10       0.86      0.79      0.83      3791\n",
            "          11       0.86      0.85      0.86      5418\n",
            "          12       0.89      0.81      0.85      4593\n",
            "          13       0.85      0.75      0.80      2187\n",
            "          14       0.84      0.73      0.78      1807\n",
            "          15       0.93      0.89      0.91      5060\n",
            "          16       0.93      0.90      0.92      4159\n",
            "          17       0.84      0.81      0.83      6070\n",
            "          18       0.90      0.83      0.87      3306\n",
            "          19       0.94      0.91      0.93      5756\n",
            "          20       0.84      0.82      0.83      5330\n",
            "          21       0.77      0.71      0.74      4279\n",
            "          22       0.91      0.83      0.87      2425\n",
            "          23       0.74      0.69      0.71      3526\n",
            "          24       0.92      0.83      0.87      4351\n",
            "\n",
            "   micro avg       0.85      0.80      0.83     87379\n",
            "   macro avg       0.83      0.77      0.80     87379\n",
            "weighted avg       0.85      0.80      0.83     87379\n",
            " samples avg       0.84      0.82      0.80     87379\n",
            "\n"
          ],
          "name": "stdout"
        },
        {
          "output_type": "stream",
          "text": [
            "/usr/local/lib/python3.6/dist-packages/sklearn/metrics/classification.py:1437: UndefinedMetricWarning: Precision and F-score are ill-defined and being set to 0.0 in samples with no predicted labels.\n",
            "  'precision', 'predicted', average, warn_for)\n"
          ],
          "name": "stderr"
        }
      ]
    },
    {
      "cell_type": "code",
      "metadata": {
        "id": "UbTvPZoyHht-",
        "colab_type": "code",
        "colab": {
          "base_uri": "https://localhost:8080/",
          "height": 102
        },
        "outputId": "a6bdef6f-fe17-446e-f04d-0d263eb5005f"
      },
      "source": [
        "test.iloc[24]"
      ],
      "execution_count": 55,
      "outputs": [
        {
          "output_type": "execute_result",
          "data": {
            "text/plain": [
              "Id                                                 2586970\n",
              "Title                                    Android: UnitTest\n",
              "Body     <p>Need some advice. I have an App. And I need...\n",
              "Tags                                               android\n",
              "Name: 54121, dtype: object"
            ]
          },
          "metadata": {
            "tags": []
          },
          "execution_count": 55
        }
      ]
    },
    {
      "cell_type": "code",
      "metadata": {
        "id": "StZbHeTuHjke",
        "colab_type": "code",
        "colab": {
          "base_uri": "https://localhost:8080/",
          "height": 68
        },
        "outputId": "4ce1b117-8f30-4466-8d94-f77f7a1ee4f4"
      },
      "source": [
        "labels"
      ],
      "execution_count": 56,
      "outputs": [
        {
          "output_type": "execute_result",
          "data": {
            "text/plain": [
              "array([' ', '#', '+', '-', '.', 'a', 'b', 'c', 'd', 'e', 'h', 'i', 'j',\n",
              "       'l', 'm', 'n', 'o', 'p', 'q', 'r', 's', 't', 'u', 'v', 'y'],\n",
              "      dtype=object)"
            ]
          },
          "metadata": {
            "tags": []
          },
          "execution_count": 56
        }
      ]
    },
    {
      "cell_type": "code",
      "metadata": {
        "id": "cza_tDD3HkyV",
        "colab_type": "code",
        "colab": {}
      },
      "source": [
        "model.save('./stackoverflow_tags_GRU.h5')"
      ],
      "execution_count": 0,
      "outputs": []
    },
    {
      "cell_type": "markdown",
      "metadata": {
        "id": "pqrDILkOePoX",
        "colab_type": "text"
      },
      "source": [
        "## Summary\n",
        "\n",
        "1. Only 20% of the data is used.\n",
        "2. Data is trained by using Top 20 Tags data which has 71526 data.\n",
        "3. Data is trained by using LSTM and GRU model.\n",
        "4. The training is optimized by using the recent optimizer, Rectified Adam.\n",
        "5. Results of the data\n",
        "\n",
        "*LSTM model*:\n",
        "\n",
        "Accuracy: 0.78\n",
        "\n",
        "Micro-F1-score: 0.82\n",
        "\n",
        "Macro-F1-score: 0.79\n",
        "\n",
        "*GRU model*:\n",
        "\n",
        "Accuracy: 0.80\n",
        "\n",
        "Micro-F1-score: 0.83\n",
        "\n",
        "Macro-F1-score: 0.80\n",
        "\n",
        "\n",
        "\n",
        "\n",
        "  \n",
        "  \n",
        "\n",
        "\n"
      ]
    }
  ]
}